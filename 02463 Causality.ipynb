{
 "cells": [
  {
   "cell_type": "markdown",
   "id": "b845aff8",
   "metadata": {},
   "source": [
    "# Script containing drawn samples, test statistics, strategy, etc. for project 3\n",
    "\n",
    "### Facts:\n",
    "##### $\\bullet$ There are 7 nodes \n",
    "##### $\\bullet$ There is one hidden node\n",
    "##### $\\bullet$ H is a confounder for 2 of the other nodes\n",
    "##### $\\bullet$  The variables that H is a confounder for are NOT directly linked\n",
    "\n",
    "\n",
    "##### $\\bullet$ The file with no intervention 98 samples is called: \"data_98_observational.csv\" "
   ]
  },
  {
   "cell_type": "markdown",
   "id": "2fd372db",
   "metadata": {},
   "source": [
    "## General setup:\n",
    "### Write down exactly what was done when sampling in a markdown cell above the code\n",
    "### Do statistics"
   ]
  },
  {
   "cell_type": "code",
   "execution_count": 1,
   "id": "9928c100",
   "metadata": {},
   "outputs": [],
   "source": [
    "import numpy as np\n",
    "import matplotlib.pyplot as plt\n",
    "import pandas as pd\n"
   ]
  },
  {
   "cell_type": "code",
   "execution_count": 1,
   "id": "1d1ce4de",
   "metadata": {},
   "outputs": [],
   "source": [
    "def load(filename):\n",
    "    df = pd.read_csv('data/'+str(filename))\n",
    "    data = df.to_numpy()\n",
    "    return data\n",
    "\n",
    "    \n",
    "\n",
    "def mean(A):\n",
    "    return np.mean(A, axis=0)\n",
    "def var(A):\n",
    "    return np.var(A, axis=0)\n",
    "def cor(A):\n",
    "    return np.cor(A, axis=0)\n",
    "\n"
   ]
  },
  {
   "cell_type": "code",
   "execution_count": null,
   "id": "6c44a636",
   "metadata": {},
   "outputs": [],
   "source": []
  }
 ],
 "metadata": {
  "kernelspec": {
   "display_name": "Python 3 (ipykernel)",
   "language": "python",
   "name": "python3"
  },
  "language_info": {
   "codemirror_mode": {
    "name": "ipython",
    "version": 3
   },
   "file_extension": ".py",
   "mimetype": "text/x-python",
   "name": "python",
   "nbconvert_exporter": "python",
   "pygments_lexer": "ipython3",
   "version": "3.8.13"
  }
 },
 "nbformat": 4,
 "nbformat_minor": 5
}
