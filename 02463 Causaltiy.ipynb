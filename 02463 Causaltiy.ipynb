{
 "cells": [
  {
   "cell_type": "markdown",
   "id": "b845aff8",
   "metadata": {},
   "source": [
    "# Script containing drawn samples, test statistics, strategy, etc. for project 3\n",
    "\n",
    "### Facts:\n",
    "##### $\\bullet$ There are 7 nodes \n",
    "##### $\\bullet$ There is one hidden node\n",
    "##### $\\bullet$ H is a confounder for 2 of the other nodes\n",
    "##### $\\bullet$  The variables that H is a confounder for are NOT directly linked\n",
    "\n",
    "\n",
    "##### $\\bullet$ The file with no intervention 98 samples is called: \"data_98_observational.csv\" "
   ]
  },
  {
   "cell_type": "markdown",
   "id": "b64bbd4c",
   "metadata": {},
   "source": [
    "## General setup:\n",
    "### Write down exactly what was done when sampling in a markdown cell above the code\n",
    "### Do statistics"
   ]
  },
  {
   "cell_type": "markdown",
   "id": "831ed91e",
   "metadata": {},
   "source": [
    "#### Imports"
   ]
  },
  {
   "cell_type": "code",
   "execution_count": 2,
   "id": "9928c100",
   "metadata": {},
   "outputs": [],
   "source": [
    "import numpy as np\n",
    "import matplotlib.pyplot as plt\n",
    "import pandas as pd\n",
    "import seaborn as sns\n",
    "from os import listdir\n",
    "from os.path import isfile, join\n",
    "\n",
    "import scipy.stats as st\n",
    "\n",
    "from sklearn.feature_selection import mutual_info_regression as mutual_info\n"
   ]
  },
  {
   "cell_type": "markdown",
   "id": "902b91d1",
   "metadata": {},
   "source": [
    "#### Define functions"
   ]
  },
  {
   "cell_type": "code",
   "execution_count": 4,
   "id": "1d1ce4de",
   "metadata": {},
   "outputs": [],
   "source": [
    "def load(filename):\n",
    "    df = pd.read_csv('data/'+str(filename)).iloc[:,1:]\n",
    "    data = df.to_numpy()\n",
    "    return data, df\n",
    "    \n",
    "def load_as_df(filename):\n",
    "    df = pd.read_csv('data/'+str(filename))\n",
    "    df = df.drop(columns=['Unnamed: 0'])\n",
    "    return df\n",
    "\n",
    "def mean(A):\n",
    "    return np.mean(A, axis=0)\n",
    "def var(A):\n",
    "    return np.var(A, axis=0)\n",
    "def corM(df, method):\n",
    "    return df.corr(method=method)\n",
    "\n",
    "def ttest(vec1, vec2):\n",
    "    return st.ttest_rec(vec1,vec2)[1]"
   ]
  },
  {
   "cell_type": "code",
   "execution_count": 5,
   "id": "3026855c",
   "metadata": {},
   "outputs": [],
   "source": [
    "a_raw, df_raw = load('data_98_observational.csv')\n",
    "nodes = df_raw.columns\n",
    "\n",
    "means = mean(a_raw)\n",
    "vars = var(a_raw)"
   ]
  },
  {
   "cell_type": "markdown",
   "id": "ed381616",
   "metadata": {},
   "source": [
    "#### Load all data\n",
    "Loads all the data into the dictionary of {filename: dataframe}"
   ]
  },
  {
   "cell_type": "code",
   "execution_count": 5,
   "id": "2c1be9d4",
   "metadata": {},
   "outputs": [],
   "source": [
    "# Load all data into dictionary\n",
    "\n",
    "# List all files in data folder with .csv extension\n",
    "data_files = [f for f in listdir('data') if isfile(join('data', f)) if f.endswith(\".csv\")]\n",
    "# Create dictionary of dataframes \n",
    "data_dict = {f[:-4]: load_as_df(f) for f in data_files}\n",
    "\n",
    "# Suprress seaborn warnings\n"
   ]
  },
  {
   "cell_type": "code",
   "execution_count": null,
   "id": "89065f65",
   "metadata": {},
   "outputs": [],
   "source": [
    "data_dict[]"
   ]
  },
  {
   "cell_type": "markdown",
   "id": "7ab6de2a",
   "metadata": {},
   "source": [
    "#### Generate plots"
   ]
  },
  {
   "cell_type": "markdown",
   "id": "58792ed4",
   "metadata": {},
   "source": [
    "Generate scatterlot matrices for all the datasets"
   ]
  },
  {
   "cell_type": "code",
   "execution_count": 17,
   "id": "25b18021",
   "metadata": {},
   "outputs": [
    {
     "name": "stderr",
     "output_type": "stream",
     "text": [
      "C:\\Users\\andre\\anaconda3\\envs\\signaler-exam\\lib\\site-packages\\seaborn\\distributions.py:305: UserWarning: Dataset has 0 variance; skipping density estimate.\n",
      "  warnings.warn(msg, UserWarning)\n"
     ]
    },
    {
     "name": "stdout",
     "output_type": "stream",
     "text": [
      "Created file: plots/scatter_matrix_data_30_A0.png\n"
     ]
    },
    {
     "name": "stderr",
     "output_type": "stream",
     "text": [
      "C:\\Users\\andre\\anaconda3\\envs\\signaler-exam\\lib\\site-packages\\seaborn\\distributions.py:305: UserWarning: Dataset has 0 variance; skipping density estimate.\n",
      "  warnings.warn(msg, UserWarning)\n"
     ]
    },
    {
     "name": "stdout",
     "output_type": "stream",
     "text": [
      "Created file: plots/scatter_matrix_data_30_B0.16.png\n"
     ]
    },
    {
     "name": "stderr",
     "output_type": "stream",
     "text": [
      "C:\\Users\\andre\\anaconda3\\envs\\signaler-exam\\lib\\site-packages\\seaborn\\distributions.py:305: UserWarning: Dataset has 0 variance; skipping density estimate.\n",
      "  warnings.warn(msg, UserWarning)\n"
     ]
    },
    {
     "name": "stdout",
     "output_type": "stream",
     "text": [
      "Created file: plots/scatter_matrix_data_30_B0.png\n"
     ]
    },
    {
     "name": "stderr",
     "output_type": "stream",
     "text": [
      "C:\\Users\\andre\\anaconda3\\envs\\signaler-exam\\lib\\site-packages\\seaborn\\distributions.py:305: UserWarning: Dataset has 0 variance; skipping density estimate.\n",
      "  warnings.warn(msg, UserWarning)\n",
      "C:\\Users\\andre\\anaconda3\\envs\\signaler-exam\\lib\\site-packages\\seaborn\\distributions.py:305: UserWarning: Dataset has 0 variance; skipping density estimate.\n",
      "  warnings.warn(msg, UserWarning)\n"
     ]
    },
    {
     "name": "stdout",
     "output_type": "stream",
     "text": [
      "Created file: plots/scatter_matrix_data_30_C0.png\n"
     ]
    },
    {
     "name": "stderr",
     "output_type": "stream",
     "text": [
      "C:\\Users\\andre\\anaconda3\\envs\\signaler-exam\\lib\\site-packages\\seaborn\\distributions.py:305: UserWarning: Dataset has 0 variance; skipping density estimate.\n",
      "  warnings.warn(msg, UserWarning)\n",
      "C:\\Users\\andre\\anaconda3\\envs\\signaler-exam\\lib\\site-packages\\seaborn\\distributions.py:305: UserWarning: Dataset has 0 variance; skipping density estimate.\n",
      "  warnings.warn(msg, UserWarning)\n"
     ]
    },
    {
     "name": "stdout",
     "output_type": "stream",
     "text": [
      "Created file: plots/scatter_matrix_data_30_D0.png\n"
     ]
    },
    {
     "name": "stderr",
     "output_type": "stream",
     "text": [
      "C:\\Users\\andre\\anaconda3\\envs\\signaler-exam\\lib\\site-packages\\seaborn\\distributions.py:305: UserWarning: Dataset has 0 variance; skipping density estimate.\n",
      "  warnings.warn(msg, UserWarning)\n",
      "C:\\Users\\andre\\anaconda3\\envs\\signaler-exam\\lib\\site-packages\\seaborn\\distributions.py:305: UserWarning: Dataset has 0 variance; skipping density estimate.\n",
      "  warnings.warn(msg, UserWarning)\n",
      "C:\\Users\\andre\\anaconda3\\envs\\signaler-exam\\lib\\site-packages\\seaborn\\distributions.py:305: UserWarning: Dataset has 0 variance; skipping density estimate.\n",
      "  warnings.warn(msg, UserWarning)\n",
      "C:\\Users\\andre\\anaconda3\\envs\\signaler-exam\\lib\\site-packages\\seaborn\\distributions.py:305: UserWarning: Dataset has 0 variance; skipping density estimate.\n",
      "  warnings.warn(msg, UserWarning)\n"
     ]
    },
    {
     "name": "stdout",
     "output_type": "stream",
     "text": [
      "Created file: plots/scatter_matrix_data_30_D0F0.png\n"
     ]
    },
    {
     "name": "stderr",
     "output_type": "stream",
     "text": [
      "C:\\Users\\andre\\anaconda3\\envs\\signaler-exam\\lib\\site-packages\\seaborn\\distributions.py:305: UserWarning: Dataset has 0 variance; skipping density estimate.\n",
      "  warnings.warn(msg, UserWarning)\n"
     ]
    },
    {
     "name": "stdout",
     "output_type": "stream",
     "text": [
      "Created file: plots/scatter_matrix_data_30_E0.png\n"
     ]
    },
    {
     "name": "stderr",
     "output_type": "stream",
     "text": [
      "C:\\Users\\andre\\anaconda3\\envs\\signaler-exam\\lib\\site-packages\\seaborn\\distributions.py:305: UserWarning: Dataset has 0 variance; skipping density estimate.\n",
      "  warnings.warn(msg, UserWarning)\n",
      "C:\\Users\\andre\\anaconda3\\envs\\signaler-exam\\lib\\site-packages\\seaborn\\distributions.py:305: UserWarning: Dataset has 0 variance; skipping density estimate.\n",
      "  warnings.warn(msg, UserWarning)\n"
     ]
    },
    {
     "name": "stdout",
     "output_type": "stream",
     "text": [
      "Created file: plots/scatter_matrix_data_30_F0.png\n"
     ]
    },
    {
     "name": "stderr",
     "output_type": "stream",
     "text": [
      "C:\\Users\\andre\\anaconda3\\envs\\signaler-exam\\lib\\site-packages\\seaborn\\distributions.py:305: UserWarning: Dataset has 0 variance; skipping density estimate.\n",
      "  warnings.warn(msg, UserWarning)\n"
     ]
    },
    {
     "name": "stdout",
     "output_type": "stream",
     "text": [
      "Created file: plots/scatter_matrix_data_50_F-0.5.png\n",
      "Created file: plots/scatter_matrix_data_98_observational.png\n"
     ]
    }
   ],
   "source": [
    "# Make all plots\n",
    "for name, data in data_dict.items():\n",
    "    sns.set(style=\"white\", palette=\"muted\", color_codes=True)\n",
    "    g = sns.pairplot(data, kind=\"scatter\",diag_kind=\"kde\")\n",
    "    g.fig.suptitle(\"Scatter matrix: \" + name, y =1.01)\n",
    "    g.savefig('plots/scatter_matrix_' + name + '.png')\n",
    "    # plt.show()\n",
    "    plt.close()\n",
    "    print(\"Created file: \" + 'plots/scatter_matrix_' + name + '.png')\n",
    "    \n",
    "    "
   ]
  },
  {
   "cell_type": "markdown",
   "id": "c6ace714",
   "metadata": {},
   "source": [
    "Generate correlation matrices for all datafiles"
   ]
  },
  {
   "cell_type": "code",
   "execution_count": 18,
   "id": "bf6c683a",
   "metadata": {},
   "outputs": [
    {
     "name": "stdout",
     "output_type": "stream",
     "text": [
      "Created file: plots/correlation_matrix_data_30_A0.png\n",
      "Created file: plots/correlation_matrix_spearman_data_30_A0.png\n",
      "Created file: plots/correlation_matrix_data_30_B0.16.png\n",
      "Created file: plots/correlation_matrix_spearman_data_30_B0.16.png\n",
      "Created file: plots/correlation_matrix_data_30_B0.png\n",
      "Created file: plots/correlation_matrix_spearman_data_30_B0.png\n",
      "Created file: plots/correlation_matrix_data_30_C0.png\n",
      "Created file: plots/correlation_matrix_spearman_data_30_C0.png\n",
      "Created file: plots/correlation_matrix_data_30_D0.png\n",
      "Created file: plots/correlation_matrix_spearman_data_30_D0.png\n",
      "Created file: plots/correlation_matrix_data_30_D0F0.png\n",
      "Created file: plots/correlation_matrix_spearman_data_30_D0F0.png\n",
      "Created file: plots/correlation_matrix_data_30_E0.png\n",
      "Created file: plots/correlation_matrix_spearman_data_30_E0.png\n",
      "Created file: plots/correlation_matrix_data_30_F0.png\n",
      "Created file: plots/correlation_matrix_spearman_data_30_F0.png\n",
      "Created file: plots/correlation_matrix_data_50_F-0.5.png\n",
      "Created file: plots/correlation_matrix_spearman_data_50_F-0.5.png\n",
      "Created file: plots/correlation_matrix_data_98_observational.png\n",
      "Created file: plots/correlation_matrix_spearman_data_98_observational.png\n"
     ]
    }
   ],
   "source": [
    "for name, data in data_dict.items():\n",
    "    # plot correlation matrix\n",
    "    corr = data.corr()\n",
    "    plt.figure(figsize=(10,10))\n",
    "    plt.title('Correlation Matrix')\n",
    "    sns.heatmap(corr, xticklabels=corr.columns, yticklabels=corr.columns, cmap=\"YlGnBu\", annot=True)\n",
    "    plt.savefig('plots/correlation_matrix_' + name + '.png')\n",
    "    print(\"Created file: \" + 'plots/correlation_matrix_' + name + '.png')\n",
    "\n",
    "    plt.close()\n",
    "\n",
    "    # plot spearman correlation matrix\n",
    "    corr = data.corr(method='spearman')\n",
    "    plt.figure(figsize=(10,10))\n",
    "    plt.title('Spearman Correlation Matrix')\n",
    "    sns.heatmap(corr, xticklabels=corr.columns, yticklabels=corr.columns, cmap=\"YlGnBu\", annot=True)\n",
    "    plt.savefig('plots/correlation_matrix_spearman_' + name + '.png')\n",
    "    print(\"Created file: \" + 'plots/correlation_matrix_spearman_' + name + '.png')\n",
    "\n",
    "    plt.close()"
   ]
  },
  {
   "cell_type": "code",
   "execution_count": 19,
   "id": "d2e86362",
   "metadata": {},
   "outputs": [
    {
     "name": "stderr",
     "output_type": "stream",
     "text": [
      "C:\\Users\\andre\\anaconda3\\envs\\signaler-exam\\lib\\site-packages\\seaborn\\distributions.py:1077: UserWarning: Dataset has 0 variance; skipping density estimate.\n",
      "  warnings.warn(msg, UserWarning)\n",
      "C:\\Users\\andre\\anaconda3\\envs\\signaler-exam\\lib\\site-packages\\seaborn\\distributions.py:1077: UserWarning: Dataset has 0 variance; skipping density estimate.\n",
      "  warnings.warn(msg, UserWarning)\n",
      "C:\\Users\\andre\\anaconda3\\envs\\signaler-exam\\lib\\site-packages\\seaborn\\distributions.py:1077: UserWarning: Dataset has 0 variance; skipping density estimate.\n",
      "  warnings.warn(msg, UserWarning)\n",
      "C:\\Users\\andre\\anaconda3\\envs\\signaler-exam\\lib\\site-packages\\seaborn\\distributions.py:1077: UserWarning: Dataset has 0 variance; skipping density estimate.\n",
      "  warnings.warn(msg, UserWarning)\n",
      "C:\\Users\\andre\\anaconda3\\envs\\signaler-exam\\lib\\site-packages\\seaborn\\distributions.py:1077: UserWarning: Dataset has 0 variance; skipping density estimate.\n",
      "  warnings.warn(msg, UserWarning)\n",
      "C:\\Users\\andre\\anaconda3\\envs\\signaler-exam\\lib\\site-packages\\seaborn\\distributions.py:305: UserWarning: Dataset has 0 variance; skipping density estimate.\n",
      "  warnings.warn(msg, UserWarning)\n"
     ]
    },
    {
     "name": "stdout",
     "output_type": "stream",
     "text": [
      "Created file: plots/kde_plots_data_30_A0.png\n"
     ]
    },
    {
     "name": "stderr",
     "output_type": "stream",
     "text": [
      "C:\\Users\\andre\\anaconda3\\envs\\signaler-exam\\lib\\site-packages\\seaborn\\distributions.py:1077: UserWarning: Dataset has 0 variance; skipping density estimate.\n",
      "  warnings.warn(msg, UserWarning)\n",
      "C:\\Users\\andre\\anaconda3\\envs\\signaler-exam\\lib\\site-packages\\seaborn\\distributions.py:1077: UserWarning: Dataset has 0 variance; skipping density estimate.\n",
      "  warnings.warn(msg, UserWarning)\n",
      "C:\\Users\\andre\\anaconda3\\envs\\signaler-exam\\lib\\site-packages\\seaborn\\distributions.py:1077: UserWarning: Dataset has 0 variance; skipping density estimate.\n",
      "  warnings.warn(msg, UserWarning)\n",
      "C:\\Users\\andre\\anaconda3\\envs\\signaler-exam\\lib\\site-packages\\seaborn\\distributions.py:1077: UserWarning: Dataset has 0 variance; skipping density estimate.\n",
      "  warnings.warn(msg, UserWarning)\n",
      "C:\\Users\\andre\\anaconda3\\envs\\signaler-exam\\lib\\site-packages\\seaborn\\distributions.py:1077: UserWarning: Dataset has 0 variance; skipping density estimate.\n",
      "  warnings.warn(msg, UserWarning)\n",
      "C:\\Users\\andre\\anaconda3\\envs\\signaler-exam\\lib\\site-packages\\seaborn\\distributions.py:305: UserWarning: Dataset has 0 variance; skipping density estimate.\n",
      "  warnings.warn(msg, UserWarning)\n"
     ]
    },
    {
     "name": "stdout",
     "output_type": "stream",
     "text": [
      "Created file: plots/kde_plots_data_30_B0.16.png\n"
     ]
    },
    {
     "name": "stderr",
     "output_type": "stream",
     "text": [
      "C:\\Users\\andre\\anaconda3\\envs\\signaler-exam\\lib\\site-packages\\seaborn\\distributions.py:1077: UserWarning: Dataset has 0 variance; skipping density estimate.\n",
      "  warnings.warn(msg, UserWarning)\n",
      "C:\\Users\\andre\\anaconda3\\envs\\signaler-exam\\lib\\site-packages\\seaborn\\distributions.py:1077: UserWarning: Dataset has 0 variance; skipping density estimate.\n",
      "  warnings.warn(msg, UserWarning)\n",
      "C:\\Users\\andre\\anaconda3\\envs\\signaler-exam\\lib\\site-packages\\seaborn\\distributions.py:1077: UserWarning: Dataset has 0 variance; skipping density estimate.\n",
      "  warnings.warn(msg, UserWarning)\n",
      "C:\\Users\\andre\\anaconda3\\envs\\signaler-exam\\lib\\site-packages\\seaborn\\distributions.py:1077: UserWarning: Dataset has 0 variance; skipping density estimate.\n",
      "  warnings.warn(msg, UserWarning)\n",
      "C:\\Users\\andre\\anaconda3\\envs\\signaler-exam\\lib\\site-packages\\seaborn\\distributions.py:1077: UserWarning: Dataset has 0 variance; skipping density estimate.\n",
      "  warnings.warn(msg, UserWarning)\n",
      "C:\\Users\\andre\\anaconda3\\envs\\signaler-exam\\lib\\site-packages\\seaborn\\distributions.py:305: UserWarning: Dataset has 0 variance; skipping density estimate.\n",
      "  warnings.warn(msg, UserWarning)\n"
     ]
    },
    {
     "name": "stdout",
     "output_type": "stream",
     "text": [
      "Created file: plots/kde_plots_data_30_B0.png\n"
     ]
    },
    {
     "name": "stderr",
     "output_type": "stream",
     "text": [
      "C:\\Users\\andre\\anaconda3\\envs\\signaler-exam\\lib\\site-packages\\seaborn\\distributions.py:1077: UserWarning: Dataset has 0 variance; skipping density estimate.\n",
      "  warnings.warn(msg, UserWarning)\n",
      "C:\\Users\\andre\\anaconda3\\envs\\signaler-exam\\lib\\site-packages\\seaborn\\distributions.py:1077: UserWarning: Dataset has 0 variance; skipping density estimate.\n",
      "  warnings.warn(msg, UserWarning)\n",
      "C:\\Users\\andre\\anaconda3\\envs\\signaler-exam\\lib\\site-packages\\seaborn\\distributions.py:1077: UserWarning: Dataset has 0 variance; skipping density estimate.\n",
      "  warnings.warn(msg, UserWarning)\n",
      "C:\\Users\\andre\\anaconda3\\envs\\signaler-exam\\lib\\site-packages\\seaborn\\distributions.py:1077: UserWarning: Dataset has 0 variance; skipping density estimate.\n",
      "  warnings.warn(msg, UserWarning)\n",
      "C:\\Users\\andre\\anaconda3\\envs\\signaler-exam\\lib\\site-packages\\seaborn\\distributions.py:1077: UserWarning: Dataset has 0 variance; skipping density estimate.\n",
      "  warnings.warn(msg, UserWarning)\n",
      "C:\\Users\\andre\\anaconda3\\envs\\signaler-exam\\lib\\site-packages\\seaborn\\distributions.py:1077: UserWarning: Dataset has 0 variance; skipping density estimate.\n",
      "  warnings.warn(msg, UserWarning)\n",
      "C:\\Users\\andre\\anaconda3\\envs\\signaler-exam\\lib\\site-packages\\seaborn\\distributions.py:1077: UserWarning: Dataset has 0 variance; skipping density estimate.\n",
      "  warnings.warn(msg, UserWarning)\n",
      "C:\\Users\\andre\\anaconda3\\envs\\signaler-exam\\lib\\site-packages\\seaborn\\distributions.py:1077: UserWarning: Dataset has 0 variance; skipping density estimate.\n",
      "  warnings.warn(msg, UserWarning)\n",
      "C:\\Users\\andre\\anaconda3\\envs\\signaler-exam\\lib\\site-packages\\seaborn\\distributions.py:1077: UserWarning: Dataset has 0 variance; skipping density estimate.\n",
      "  warnings.warn(msg, UserWarning)\n",
      "C:\\Users\\andre\\anaconda3\\envs\\signaler-exam\\lib\\site-packages\\seaborn\\distributions.py:305: UserWarning: Dataset has 0 variance; skipping density estimate.\n",
      "  warnings.warn(msg, UserWarning)\n",
      "C:\\Users\\andre\\anaconda3\\envs\\signaler-exam\\lib\\site-packages\\seaborn\\distributions.py:305: UserWarning: Dataset has 0 variance; skipping density estimate.\n",
      "  warnings.warn(msg, UserWarning)\n"
     ]
    },
    {
     "name": "stdout",
     "output_type": "stream",
     "text": [
      "Created file: plots/kde_plots_data_30_C0.png\n"
     ]
    },
    {
     "name": "stderr",
     "output_type": "stream",
     "text": [
      "C:\\Users\\andre\\anaconda3\\envs\\signaler-exam\\lib\\site-packages\\seaborn\\distributions.py:1077: UserWarning: Dataset has 0 variance; skipping density estimate.\n",
      "  warnings.warn(msg, UserWarning)\n",
      "C:\\Users\\andre\\anaconda3\\envs\\signaler-exam\\lib\\site-packages\\seaborn\\distributions.py:1077: UserWarning: Dataset has 0 variance; skipping density estimate.\n",
      "  warnings.warn(msg, UserWarning)\n",
      "C:\\Users\\andre\\anaconda3\\envs\\signaler-exam\\lib\\site-packages\\seaborn\\distributions.py:1077: UserWarning: Dataset has 0 variance; skipping density estimate.\n",
      "  warnings.warn(msg, UserWarning)\n",
      "C:\\Users\\andre\\anaconda3\\envs\\signaler-exam\\lib\\site-packages\\seaborn\\distributions.py:1077: UserWarning: Dataset has 0 variance; skipping density estimate.\n",
      "  warnings.warn(msg, UserWarning)\n",
      "C:\\Users\\andre\\anaconda3\\envs\\signaler-exam\\lib\\site-packages\\seaborn\\distributions.py:1077: UserWarning: Dataset has 0 variance; skipping density estimate.\n",
      "  warnings.warn(msg, UserWarning)\n",
      "C:\\Users\\andre\\anaconda3\\envs\\signaler-exam\\lib\\site-packages\\seaborn\\distributions.py:1077: UserWarning: Dataset has 0 variance; skipping density estimate.\n",
      "  warnings.warn(msg, UserWarning)\n",
      "C:\\Users\\andre\\anaconda3\\envs\\signaler-exam\\lib\\site-packages\\seaborn\\distributions.py:1077: UserWarning: Dataset has 0 variance; skipping density estimate.\n",
      "  warnings.warn(msg, UserWarning)\n",
      "C:\\Users\\andre\\anaconda3\\envs\\signaler-exam\\lib\\site-packages\\seaborn\\distributions.py:1077: UserWarning: Dataset has 0 variance; skipping density estimate.\n",
      "  warnings.warn(msg, UserWarning)\n",
      "C:\\Users\\andre\\anaconda3\\envs\\signaler-exam\\lib\\site-packages\\seaborn\\distributions.py:1077: UserWarning: Dataset has 0 variance; skipping density estimate.\n",
      "  warnings.warn(msg, UserWarning)\n",
      "C:\\Users\\andre\\anaconda3\\envs\\signaler-exam\\lib\\site-packages\\seaborn\\distributions.py:305: UserWarning: Dataset has 0 variance; skipping density estimate.\n",
      "  warnings.warn(msg, UserWarning)\n",
      "C:\\Users\\andre\\anaconda3\\envs\\signaler-exam\\lib\\site-packages\\seaborn\\distributions.py:305: UserWarning: Dataset has 0 variance; skipping density estimate.\n",
      "  warnings.warn(msg, UserWarning)\n"
     ]
    },
    {
     "name": "stdout",
     "output_type": "stream",
     "text": [
      "Created file: plots/kde_plots_data_30_D0.png\n"
     ]
    },
    {
     "name": "stderr",
     "output_type": "stream",
     "text": [
      "C:\\Users\\andre\\anaconda3\\envs\\signaler-exam\\lib\\site-packages\\seaborn\\distributions.py:1077: UserWarning: Dataset has 0 variance; skipping density estimate.\n",
      "  warnings.warn(msg, UserWarning)\n",
      "C:\\Users\\andre\\anaconda3\\envs\\signaler-exam\\lib\\site-packages\\seaborn\\distributions.py:1077: UserWarning: Dataset has 0 variance; skipping density estimate.\n",
      "  warnings.warn(msg, UserWarning)\n",
      "C:\\Users\\andre\\anaconda3\\envs\\signaler-exam\\lib\\site-packages\\seaborn\\distributions.py:1077: UserWarning: Dataset has 0 variance; skipping density estimate.\n",
      "  warnings.warn(msg, UserWarning)\n",
      "C:\\Users\\andre\\anaconda3\\envs\\signaler-exam\\lib\\site-packages\\seaborn\\distributions.py:1077: UserWarning: Dataset has 0 variance; skipping density estimate.\n",
      "  warnings.warn(msg, UserWarning)\n",
      "C:\\Users\\andre\\anaconda3\\envs\\signaler-exam\\lib\\site-packages\\seaborn\\distributions.py:1077: UserWarning: Dataset has 0 variance; skipping density estimate.\n",
      "  warnings.warn(msg, UserWarning)\n",
      "C:\\Users\\andre\\anaconda3\\envs\\signaler-exam\\lib\\site-packages\\seaborn\\distributions.py:1077: UserWarning: Dataset has 0 variance; skipping density estimate.\n",
      "  warnings.warn(msg, UserWarning)\n",
      "C:\\Users\\andre\\anaconda3\\envs\\signaler-exam\\lib\\site-packages\\seaborn\\distributions.py:1077: UserWarning: Dataset has 0 variance; skipping density estimate.\n",
      "  warnings.warn(msg, UserWarning)\n",
      "C:\\Users\\andre\\anaconda3\\envs\\signaler-exam\\lib\\site-packages\\seaborn\\distributions.py:1077: UserWarning: Dataset has 0 variance; skipping density estimate.\n",
      "  warnings.warn(msg, UserWarning)\n",
      "C:\\Users\\andre\\anaconda3\\envs\\signaler-exam\\lib\\site-packages\\seaborn\\distributions.py:1077: UserWarning: Dataset has 0 variance; skipping density estimate.\n",
      "  warnings.warn(msg, UserWarning)\n",
      "C:\\Users\\andre\\anaconda3\\envs\\signaler-exam\\lib\\site-packages\\seaborn\\distributions.py:1077: UserWarning: Dataset has 0 variance; skipping density estimate.\n",
      "  warnings.warn(msg, UserWarning)\n",
      "C:\\Users\\andre\\anaconda3\\envs\\signaler-exam\\lib\\site-packages\\seaborn\\distributions.py:1077: UserWarning: Dataset has 0 variance; skipping density estimate.\n",
      "  warnings.warn(msg, UserWarning)\n",
      "C:\\Users\\andre\\anaconda3\\envs\\signaler-exam\\lib\\site-packages\\seaborn\\distributions.py:1077: UserWarning: Dataset has 0 variance; skipping density estimate.\n",
      "  warnings.warn(msg, UserWarning)\n",
      "C:\\Users\\andre\\anaconda3\\envs\\signaler-exam\\lib\\site-packages\\seaborn\\distributions.py:1077: UserWarning: Dataset has 0 variance; skipping density estimate.\n",
      "  warnings.warn(msg, UserWarning)\n",
      "C:\\Users\\andre\\anaconda3\\envs\\signaler-exam\\lib\\site-packages\\seaborn\\distributions.py:1077: UserWarning: Dataset has 0 variance; skipping density estimate.\n",
      "  warnings.warn(msg, UserWarning)\n",
      "C:\\Users\\andre\\anaconda3\\envs\\signaler-exam\\lib\\site-packages\\seaborn\\distributions.py:305: UserWarning: Dataset has 0 variance; skipping density estimate.\n",
      "  warnings.warn(msg, UserWarning)\n",
      "C:\\Users\\andre\\anaconda3\\envs\\signaler-exam\\lib\\site-packages\\seaborn\\distributions.py:305: UserWarning: Dataset has 0 variance; skipping density estimate.\n",
      "  warnings.warn(msg, UserWarning)\n",
      "C:\\Users\\andre\\anaconda3\\envs\\signaler-exam\\lib\\site-packages\\seaborn\\distributions.py:305: UserWarning: Dataset has 0 variance; skipping density estimate.\n",
      "  warnings.warn(msg, UserWarning)\n",
      "C:\\Users\\andre\\anaconda3\\envs\\signaler-exam\\lib\\site-packages\\seaborn\\distributions.py:305: UserWarning: Dataset has 0 variance; skipping density estimate.\n",
      "  warnings.warn(msg, UserWarning)\n"
     ]
    },
    {
     "name": "stdout",
     "output_type": "stream",
     "text": [
      "Created file: plots/kde_plots_data_30_D0F0.png\n"
     ]
    },
    {
     "name": "stderr",
     "output_type": "stream",
     "text": [
      "C:\\Users\\andre\\anaconda3\\envs\\signaler-exam\\lib\\site-packages\\seaborn\\distributions.py:1077: UserWarning: Dataset has 0 variance; skipping density estimate.\n",
      "  warnings.warn(msg, UserWarning)\n",
      "C:\\Users\\andre\\anaconda3\\envs\\signaler-exam\\lib\\site-packages\\seaborn\\distributions.py:1077: UserWarning: Dataset has 0 variance; skipping density estimate.\n",
      "  warnings.warn(msg, UserWarning)\n",
      "C:\\Users\\andre\\anaconda3\\envs\\signaler-exam\\lib\\site-packages\\seaborn\\distributions.py:1077: UserWarning: Dataset has 0 variance; skipping density estimate.\n",
      "  warnings.warn(msg, UserWarning)\n",
      "C:\\Users\\andre\\anaconda3\\envs\\signaler-exam\\lib\\site-packages\\seaborn\\distributions.py:1077: UserWarning: Dataset has 0 variance; skipping density estimate.\n",
      "  warnings.warn(msg, UserWarning)\n",
      "C:\\Users\\andre\\anaconda3\\envs\\signaler-exam\\lib\\site-packages\\seaborn\\distributions.py:1077: UserWarning: Dataset has 0 variance; skipping density estimate.\n",
      "  warnings.warn(msg, UserWarning)\n",
      "C:\\Users\\andre\\anaconda3\\envs\\signaler-exam\\lib\\site-packages\\seaborn\\distributions.py:305: UserWarning: Dataset has 0 variance; skipping density estimate.\n",
      "  warnings.warn(msg, UserWarning)\n"
     ]
    },
    {
     "name": "stdout",
     "output_type": "stream",
     "text": [
      "Created file: plots/kde_plots_data_30_E0.png\n"
     ]
    },
    {
     "name": "stderr",
     "output_type": "stream",
     "text": [
      "C:\\Users\\andre\\anaconda3\\envs\\signaler-exam\\lib\\site-packages\\seaborn\\distributions.py:1077: UserWarning: Dataset has 0 variance; skipping density estimate.\n",
      "  warnings.warn(msg, UserWarning)\n",
      "C:\\Users\\andre\\anaconda3\\envs\\signaler-exam\\lib\\site-packages\\seaborn\\distributions.py:1077: UserWarning: Dataset has 0 variance; skipping density estimate.\n",
      "  warnings.warn(msg, UserWarning)\n",
      "C:\\Users\\andre\\anaconda3\\envs\\signaler-exam\\lib\\site-packages\\seaborn\\distributions.py:1077: UserWarning: Dataset has 0 variance; skipping density estimate.\n",
      "  warnings.warn(msg, UserWarning)\n",
      "C:\\Users\\andre\\anaconda3\\envs\\signaler-exam\\lib\\site-packages\\seaborn\\distributions.py:1077: UserWarning: Dataset has 0 variance; skipping density estimate.\n",
      "  warnings.warn(msg, UserWarning)\n",
      "C:\\Users\\andre\\anaconda3\\envs\\signaler-exam\\lib\\site-packages\\seaborn\\distributions.py:1077: UserWarning: Dataset has 0 variance; skipping density estimate.\n",
      "  warnings.warn(msg, UserWarning)\n",
      "C:\\Users\\andre\\anaconda3\\envs\\signaler-exam\\lib\\site-packages\\seaborn\\distributions.py:1077: UserWarning: Dataset has 0 variance; skipping density estimate.\n",
      "  warnings.warn(msg, UserWarning)\n",
      "C:\\Users\\andre\\anaconda3\\envs\\signaler-exam\\lib\\site-packages\\seaborn\\distributions.py:1077: UserWarning: Dataset has 0 variance; skipping density estimate.\n",
      "  warnings.warn(msg, UserWarning)\n",
      "C:\\Users\\andre\\anaconda3\\envs\\signaler-exam\\lib\\site-packages\\seaborn\\distributions.py:1077: UserWarning: Dataset has 0 variance; skipping density estimate.\n",
      "  warnings.warn(msg, UserWarning)\n",
      "C:\\Users\\andre\\anaconda3\\envs\\signaler-exam\\lib\\site-packages\\seaborn\\distributions.py:1077: UserWarning: Dataset has 0 variance; skipping density estimate.\n",
      "  warnings.warn(msg, UserWarning)\n",
      "C:\\Users\\andre\\anaconda3\\envs\\signaler-exam\\lib\\site-packages\\seaborn\\distributions.py:305: UserWarning: Dataset has 0 variance; skipping density estimate.\n",
      "  warnings.warn(msg, UserWarning)\n",
      "C:\\Users\\andre\\anaconda3\\envs\\signaler-exam\\lib\\site-packages\\seaborn\\distributions.py:305: UserWarning: Dataset has 0 variance; skipping density estimate.\n",
      "  warnings.warn(msg, UserWarning)\n"
     ]
    },
    {
     "name": "stdout",
     "output_type": "stream",
     "text": [
      "Created file: plots/kde_plots_data_30_F0.png\n"
     ]
    },
    {
     "name": "stderr",
     "output_type": "stream",
     "text": [
      "C:\\Users\\andre\\anaconda3\\envs\\signaler-exam\\lib\\site-packages\\seaborn\\distributions.py:1077: UserWarning: Dataset has 0 variance; skipping density estimate.\n",
      "  warnings.warn(msg, UserWarning)\n",
      "C:\\Users\\andre\\anaconda3\\envs\\signaler-exam\\lib\\site-packages\\seaborn\\distributions.py:1077: UserWarning: Dataset has 0 variance; skipping density estimate.\n",
      "  warnings.warn(msg, UserWarning)\n",
      "C:\\Users\\andre\\anaconda3\\envs\\signaler-exam\\lib\\site-packages\\seaborn\\distributions.py:1077: UserWarning: Dataset has 0 variance; skipping density estimate.\n",
      "  warnings.warn(msg, UserWarning)\n",
      "C:\\Users\\andre\\anaconda3\\envs\\signaler-exam\\lib\\site-packages\\seaborn\\distributions.py:1077: UserWarning: Dataset has 0 variance; skipping density estimate.\n",
      "  warnings.warn(msg, UserWarning)\n",
      "C:\\Users\\andre\\anaconda3\\envs\\signaler-exam\\lib\\site-packages\\seaborn\\distributions.py:1077: UserWarning: Dataset has 0 variance; skipping density estimate.\n",
      "  warnings.warn(msg, UserWarning)\n",
      "C:\\Users\\andre\\anaconda3\\envs\\signaler-exam\\lib\\site-packages\\seaborn\\distributions.py:305: UserWarning: Dataset has 0 variance; skipping density estimate.\n",
      "  warnings.warn(msg, UserWarning)\n"
     ]
    },
    {
     "name": "stdout",
     "output_type": "stream",
     "text": [
      "Created file: plots/kde_plots_data_50_F-0.5.png\n",
      "Created file: plots/kde_plots_data_98_observational.png\n"
     ]
    }
   ],
   "source": [
    "for name, data in data_dict.items():\n",
    "    # Create grid of seaborn plots\n",
    "    g = sns.PairGrid(data, diag_sharey=True)\n",
    "    g.map_upper(plt.scatter)\n",
    "    g.map_lower(sns.kdeplot, cmap=\"Blues_d\")\n",
    "    g.map_diag(sns.kdeplot, lw=3)\n",
    "    g.fig.suptitle(\"KDE Plots: \" + name, y =1.01)\n",
    "    g.savefig('plots/kde_plots_' + name + '.png')\n",
    "\n",
    "    plt.close()\n",
    "    print(\"Created file: \" + 'plots/kde_plots_' + name + '.png')\n",
    "   "
   ]
  },
  {
   "cell_type": "markdown",
   "id": "3c112da0",
   "metadata": {},
   "source": [
    "#### Calculate statistics\n",
    "Generate latex tables for mean and variance"
   ]
  },
  {
   "cell_type": "code",
   "execution_count": 20,
   "id": "9bf81a95",
   "metadata": {},
   "outputs": [
    {
     "name": "stdout",
     "output_type": "stream",
     "text": [
      "                                   A         B         C         D         E  \\\n",
      "data_30_A0_mean             0.000000  0.039114 -0.389296  1.312622  0.055963   \n",
      "data_30_B0.16_mean          1.527638  0.160000 -0.319727  1.778589 -0.013607   \n",
      "data_30_B0_mean             1.662630  0.000000  0.093494  1.009004  0.073172   \n",
      "data_30_C0_mean             1.464602  0.000000  0.000000  0.756588 -0.070316   \n",
      "data_30_D0_mean             1.439067 -1.069356 -0.300000  0.000000  0.000000   \n",
      "data_30_D0F0_mean           1.800000  0.000000 -0.466667  0.000000  0.000000   \n",
      "data_30_E0_mean             1.791457 -0.233166 -0.133333  1.096928  0.000000   \n",
      "data_30_F0_mean             1.866667  0.000000 -0.447329  1.343044  0.047329   \n",
      "data_50_F-0.5_mean          1.677583 -0.052146 -0.283903  0.934250  0.043903   \n",
      "data_98_observational_mean  1.492477 -0.183032 -0.388332  1.145678 -0.019831   \n",
      "\n",
      "                                   F  \n",
      "data_30_A0_mean            -0.616436  \n",
      "data_30_B0.16_mean         -0.746649  \n",
      "data_30_B0_mean            -0.745318  \n",
      "data_30_C0_mean            -0.553688  \n",
      "data_30_D0_mean            -0.682265  \n",
      "data_30_D0F0_mean           0.000000  \n",
      "data_30_E0_mean            -0.741256  \n",
      "data_30_F0_mean             0.000000  \n",
      "data_50_F-0.5_mean         -0.500000  \n",
      "data_98_observational_mean -0.668970  \n",
      "                                  A             B         C         D  \\\n",
      "data_30_A0_var             0.000000  3.801593e+00  2.209947  0.826934   \n",
      "data_30_B0.16_var          1.128548  3.081488e-33  2.364702  0.755562   \n",
      "data_30_B0_var             1.138380  0.000000e+00  2.613332  1.497095   \n",
      "data_30_C0_var             1.006918  0.000000e+00  0.000000  2.112890   \n",
      "data_30_D0_var             1.280280  4.102540e+00  2.810000  0.000000   \n",
      "data_30_D0F0_var           0.960000  0.000000e+00  2.248889  0.000000   \n",
      "data_30_E0_var             1.179740  5.052791e+00  2.982222  1.225977   \n",
      "data_30_F0_var             0.982222  0.000000e+00  2.756689  1.104491   \n",
      "data_50_F-0.5_var          0.960000  6.836121e-01  2.472177  1.443245   \n",
      "data_98_observational_var  1.097873  3.953985e+00  2.362460  1.356223   \n",
      "\n",
      "                                  E         F  \n",
      "data_30_A0_var             0.027419  0.926906  \n",
      "data_30_B0.16_var          0.031944  0.898298  \n",
      "data_30_B0_var             0.046316  1.038431  \n",
      "data_30_C0_var             0.046577  0.449058  \n",
      "data_30_D0_var             0.000000  0.971139  \n",
      "data_30_D0F0_var           0.000000  0.000000  \n",
      "data_30_E0_var             0.000000  0.886536  \n",
      "data_30_F0_var             0.095061  0.000000  \n",
      "data_50_F-0.5_var          0.060860  0.000000  \n",
      "data_98_observational_var  0.040838  0.605165  \n"
     ]
    }
   ],
   "source": [
    "# Create new empty dataframe\n",
    "df_means = pd.DataFrame()\n",
    "df_vars = pd.DataFrame()\n",
    "\n",
    "for name, data in data_dict.items():\n",
    "    # Calculate mean and variance of each node\n",
    "    means = mean(data)\n",
    "    vars = var(data)\n",
    "\n",
    "    # add means to dataframe\n",
    "    df_means[name + '_mean'] = means\n",
    "    df_vars[name + '_var'] = vars\n",
    "\n",
    "# Transpose dataframes\n",
    "df_means = df_means.transpose()\n",
    "df_vars = df_vars.transpose()\n",
    "\n",
    "# Generate latex table\n",
    "df_means.to_latex('tables_latex/means.tex')\n",
    "df_vars.to_latex('tables_latex/vars.tex')\n",
    "\n",
    "print(df_means)\n",
    "print(df_vars)\n"
   ]
  },
  {
   "cell_type": "code",
   "execution_count": 21,
   "id": "4cd6365c",
   "metadata": {},
   "outputs": [
    {
     "name": "stdout",
     "output_type": "stream",
     "text": [
      "                                  A         B         C             D  \\\n",
      "data_30_A0             2.794145e-12  0.594539  0.997607  4.758523e-01   \n",
      "data_30_B0.16          8.738900e-01  0.350310  0.832283  7.245632e-03   \n",
      "data_30_B0             4.434196e-01  0.617802  0.143413  5.823543e-01   \n",
      "data_30_C0             8.985550e-01  0.617802  0.172200  1.376787e-01   \n",
      "data_30_D0             8.124268e-01  0.036820  0.789604  4.074746e-07   \n",
      "data_30_D0F0           1.590768e-01  0.617802  0.807848  4.074746e-07   \n",
      "data_30_E0             1.810115e-01  0.907709  0.445299  8.407685e-01   \n",
      "data_30_F0             8.798551e-02  0.617802  0.858189  4.115108e-01   \n",
      "data_50_F-0.5          3.039008e-01  0.658314  0.700596  3.063605e-01   \n",
      "data_98_observational  1.000000e+00  1.000000  1.000000  1.000000e+00   \n",
      "\n",
      "                              E         F  \n",
      "data_30_A0             0.065744  0.762543  \n",
      "data_30_B0.16          0.880723  0.653518  \n",
      "data_30_B0             0.033085  0.666593  \n",
      "data_30_C0             0.244692  0.468594  \n",
      "data_30_D0             0.594774  0.939495  \n",
      "data_30_D0F0           0.594774  0.000008  \n",
      "data_30_E0             0.594774  0.675512  \n",
      "data_30_F0             0.170016  0.000008  \n",
      "data_50_F-0.5          0.097170  0.129307  \n",
      "data_98_observational  1.000000  1.000000  \n"
     ]
    }
   ],
   "source": [
    "\n",
    "df_ttest = pd.DataFrame(np.zeros((len(data_dict.keys()),6)))\n",
    "df_ttest.index = data_dict.keys()\n",
    "df_ttest.columns = ['A','B','C','D','E','F']\n",
    "\n",
    "for name, data in data_dict.items():\n",
    "    # Calculate mean and variance of each node\n",
    "    # means = mean(data)\n",
    "\n",
    "    for column in data.columns:\n",
    "        # print(column)\n",
    "\n",
    "        p_val = st.ttest_ind(data_dict[\"data_98_observational\"][column],data_dict[name][column]).pvalue\n",
    "        df_ttest[column][name] = 1 if p_val < 0.05 else 0\n",
    "        df_ttest[column][name] = p_val\n",
    "\n",
    "df_ttest.to_latex('tables_latex/p_values.tex')\n",
    "\n",
    "print(df_ttest)\n"
   ]
  },
  {
   "cell_type": "code",
   "execution_count": 29,
   "id": "6afafeb4",
   "metadata": {},
   "outputs": [],
   "source": [
    "def MI(x,y,plot=False,Nbins=21):\n",
    "    bins = np.linspace(np.min(x),np.max(x),Nbins)\n",
    "    eps=np.spacing(1)\n",
    "    x_marginal = np.histogram(x,bins=bins)[0]\n",
    "    x_marginal = x_marginal/x_marginal.sum()\n",
    "    y_marginal = np.array(np.histogram(y,bins=bins)[0])\n",
    "    y_marginal = y_marginal/y_marginal.sum()\n",
    "    xy_joint = np.array(np.histogram2d(x,y,bins=(bins,bins))[0])\n",
    "    xy_joint = xy_joint/xy_joint.sum()\n",
    "    MI=np.sum(xy_joint*np.log(xy_joint/(x_marginal[:,None]*y_marginal[None,:]+eps)+eps))\n",
    "    if plot == True:\n",
    "        plt.figure()\n",
    "        plt.subplot(1,2,1)\n",
    "        plt.imshow(xy_joint.T,origin='lower')\n",
    "        plt.title('joint')\n",
    "        plt.subplot(1,2,2)\n",
    "        plt.imshow((x_marginal[:,None]*y_marginal[None,:]).T,origin='lower')\n",
    "        plt.title('product of marginals')\n",
    "        plt.suptitle('Mutual information: %f'%MI)\n",
    "    return(MI)"
   ]
  },
  {
   "cell_type": "code",
   "execution_count": 42,
   "id": "304fd9dc",
   "metadata": {},
   "outputs": [
    {
     "name": "stderr",
     "output_type": "stream",
     "text": [
      "<ipython-input-29-c3e06215ee1f>:7: RuntimeWarning: invalid value encountered in true_divide\n",
      "  y_marginal = y_marginal/y_marginal.sum()\n",
      "<ipython-input-29-c3e06215ee1f>:9: RuntimeWarning: invalid value encountered in true_divide\n",
      "  xy_joint = xy_joint/xy_joint.sum()\n"
     ]
    },
    {
     "name": "stdout",
     "output_type": "stream",
     "text": [
      "Created file: plots/mutual_information_matrix_data_30_A0.png\n",
      "Created file: plots/mutual_information_matrix_data_30_B0.16.png\n",
      "Created file: plots/mutual_information_matrix_data_30_B0.png\n",
      "Created file: plots/mutual_information_matrix_data_30_C0.png\n",
      "Created file: plots/mutual_information_matrix_data_30_D0.png\n",
      "Created file: plots/mutual_information_matrix_data_30_D0F0.png\n",
      "Created file: plots/mutual_information_matrix_data_30_E0.png\n",
      "Created file: plots/mutual_information_matrix_data_30_F0.png\n",
      "Created file: plots/mutual_information_matrix_data_50_F-0.5.png\n",
      "Created file: plots/mutual_information_matrix_data_98_observational.png\n"
     ]
    }
   ],
   "source": [
    "# http://www.scholarpedia.org/article/Mutual_information\n",
    "# Mutual information is one of many quantities that measures how much one random variables tells us about another. \n",
    "# It is a dimensionless quantity with (generally) units of bits, and can be thought of as the reduction in uncertainty \n",
    "# about one random variable given knowledge of another. High mutual information indicates a large reduction in uncertainty; \n",
    "# low mutual information indicates a small reduction; and zero mutual information between two random variables means the \n",
    "# variables are independent. \n",
    "\n",
    "\n",
    "# Generate matrix of mutual information\n",
    "MI_matrix = pd.DataFrame(np.zeros((6,6)))\n",
    "MI_matrix.index = [\"A\", \"B\", \"C\", \"D\", \"E\", \"F\"]\n",
    "MI_matrix.columns = [\"A\", \"B\", \"C\", \"D\", \"E\", \"F\"]\n",
    "\n",
    "for name, data in data_dict.items():\n",
    "    # Calculate mean and variance of each node\n",
    "    # means = mean(data)\n",
    "\n",
    "    for column in data.columns:\n",
    "        # print(column)\n",
    "\n",
    "        for row in data.columns:\n",
    "            # print(row)\n",
    "            if column != row:\n",
    "                MI_matrix[column][row] = MI(data[column],data[row])\n",
    "            # MI_matrix[column][row] = MI(data_dict[name][column],data_dict[name][row])\n",
    "\n",
    "        # p_val = st.ttest_ind(data_dict[\"data_98_observational\"][column],data_dict[name][column]).pvalue\n",
    "        # df_ttest[column][name] = 1 if p_val < 0.05 else 0\n",
    "        # df_ttest[column][name] = p_val\n",
    "    \n",
    "    #Create heatmap with mutual information\n",
    "    sns.heatmap(MI_matrix, annot=True, fmt='.2f', cmap=\"YlGnBu\")\n",
    "    plt.savefig('plots/mutual_information_matrix_' + name + '.png')\n",
    "    plt.close()\n",
    "    print(\"Created file: \" + 'plots/mutual_information_matrix_' + name + '.png')\n",
    "\n"
   ]
  },
  {
   "cell_type": "code",
   "execution_count": 46,
   "id": "6e11711c",
   "metadata": {},
   "outputs": [
    {
     "name": "stdout",
     "output_type": "stream",
     "text": [
      "Created file: plots/hist_data_30_A0.png\n",
      "Created file: plots/hist_data_30_B0.16.png\n",
      "Created file: plots/hist_data_30_B0.png\n",
      "Created file: plots/hist_data_30_C0.png\n",
      "Created file: plots/hist_data_30_D0.png\n",
      "Created file: plots/hist_data_30_D0F0.png\n",
      "Created file: plots/hist_data_30_E0.png\n",
      "Created file: plots/hist_data_30_F0.png\n",
      "Created file: plots/hist_data_50_F-0.5.png\n",
      "Created file: plots/hist_data_98_observational.png\n"
     ]
    }
   ],
   "source": [
    "# create histogram of each node\n",
    "for name, data in data_dict.items():\n",
    "    fig, axs = plt.subplots(2, 3, tight_layout=True)\n",
    "    axs = axs.flatten()\n",
    "    # set title for plot    \n",
    "    fig.suptitle(\"Histograms: \" + name, y =1.01)\n",
    "    for k, column in enumerate(data.columns):\n",
    "\n",
    "        # print(k, column, data[column])\n",
    "        # plot 6 histograms in a grid\n",
    "        # axs[0].hist(data[column], bins=20)\n",
    "        # plt.figure()\n",
    "        axs[k].set_title(column)\n",
    "        axs[k].hist(data[column], bins=10,rwidth=0.9)\n",
    "        # ax[k].title(\"Histogram of \" + column + \" for \" + name)\n",
    "\n",
    "    plt.savefig('plots/hist_' + name + '.jpeg')\n",
    "    plt.close()\n",
    "    print(\"Created file: \" + 'plots/hist_' + name + '.jpeg')\n"
   ]
  },
  {
   "cell_type": "code",
   "execution_count": 72,
   "id": "fa8b6420",
   "metadata": {},
   "outputs": [
    {
     "data": {
      "text/html": [
       "<div>\n",
       "<style scoped>\n",
       "    .dataframe tbody tr th:only-of-type {\n",
       "        vertical-align: middle;\n",
       "    }\n",
       "\n",
       "    .dataframe tbody tr th {\n",
       "        vertical-align: top;\n",
       "    }\n",
       "\n",
       "    .dataframe thead th {\n",
       "        text-align: right;\n",
       "    }\n",
       "</style>\n",
       "<table border=\"1\" class=\"dataframe\">\n",
       "  <thead>\n",
       "    <tr style=\"text-align: right;\">\n",
       "      <th></th>\n",
       "      <th>A</th>\n",
       "      <th>B</th>\n",
       "      <th>C</th>\n",
       "      <th>D</th>\n",
       "      <th>E</th>\n",
       "      <th>F</th>\n",
       "    </tr>\n",
       "  </thead>\n",
       "  <tbody>\n",
       "    <tr>\n",
       "      <th>A</th>\n",
       "      <td>1.000000</td>\n",
       "      <td>0.074371</td>\n",
       "      <td>0.018483</td>\n",
       "      <td>-0.032101</td>\n",
       "      <td>-0.092886</td>\n",
       "      <td>0.387857</td>\n",
       "    </tr>\n",
       "    <tr>\n",
       "      <th>B</th>\n",
       "      <td>0.074371</td>\n",
       "      <td>1.000000</td>\n",
       "      <td>-0.034065</td>\n",
       "      <td>0.167480</td>\n",
       "      <td>-0.024820</td>\n",
       "      <td>0.128793</td>\n",
       "    </tr>\n",
       "    <tr>\n",
       "      <th>C</th>\n",
       "      <td>0.018483</td>\n",
       "      <td>-0.034065</td>\n",
       "      <td>1.000000</td>\n",
       "      <td>-0.014594</td>\n",
       "      <td>-0.196654</td>\n",
       "      <td>-0.046280</td>\n",
       "    </tr>\n",
       "    <tr>\n",
       "      <th>D</th>\n",
       "      <td>-0.032101</td>\n",
       "      <td>0.167480</td>\n",
       "      <td>-0.014594</td>\n",
       "      <td>1.000000</td>\n",
       "      <td>-0.110163</td>\n",
       "      <td>0.272141</td>\n",
       "    </tr>\n",
       "    <tr>\n",
       "      <th>E</th>\n",
       "      <td>-0.092886</td>\n",
       "      <td>-0.024820</td>\n",
       "      <td>-0.196654</td>\n",
       "      <td>-0.110163</td>\n",
       "      <td>1.000000</td>\n",
       "      <td>-0.038005</td>\n",
       "    </tr>\n",
       "    <tr>\n",
       "      <th>F</th>\n",
       "      <td>0.387857</td>\n",
       "      <td>0.128793</td>\n",
       "      <td>-0.046280</td>\n",
       "      <td>0.272141</td>\n",
       "      <td>-0.038005</td>\n",
       "      <td>1.000000</td>\n",
       "    </tr>\n",
       "  </tbody>\n",
       "</table>\n",
       "</div>"
      ],
      "text/plain": [
       "          A         B         C         D         E         F\n",
       "A  1.000000  0.074371  0.018483 -0.032101 -0.092886  0.387857\n",
       "B  0.074371  1.000000 -0.034065  0.167480 -0.024820  0.128793\n",
       "C  0.018483 -0.034065  1.000000 -0.014594 -0.196654 -0.046280\n",
       "D -0.032101  0.167480 -0.014594  1.000000 -0.110163  0.272141\n",
       "E -0.092886 -0.024820 -0.196654 -0.110163  1.000000 -0.038005\n",
       "F  0.387857  0.128793 -0.046280  0.272141 -0.038005  1.000000"
      ]
     },
     "execution_count": 72,
     "metadata": {},
     "output_type": "execute_result"
    }
   ],
   "source": [
    "corM(df_raw, 'spearman')"
   ]
  },
  {
   "cell_type": "code",
   "execution_count": 73,
   "id": "66ad9627",
   "metadata": {},
   "outputs": [
    {
     "data": {
      "text/html": [
       "<div>\n",
       "<style scoped>\n",
       "    .dataframe tbody tr th:only-of-type {\n",
       "        vertical-align: middle;\n",
       "    }\n",
       "\n",
       "    .dataframe tbody tr th {\n",
       "        vertical-align: top;\n",
       "    }\n",
       "\n",
       "    .dataframe thead th {\n",
       "        text-align: right;\n",
       "    }\n",
       "</style>\n",
       "<table border=\"1\" class=\"dataframe\">\n",
       "  <thead>\n",
       "    <tr style=\"text-align: right;\">\n",
       "      <th></th>\n",
       "      <th>A</th>\n",
       "      <th>B</th>\n",
       "      <th>C</th>\n",
       "      <th>D</th>\n",
       "      <th>E</th>\n",
       "      <th>F</th>\n",
       "    </tr>\n",
       "  </thead>\n",
       "  <tbody>\n",
       "    <tr>\n",
       "      <th>count</th>\n",
       "      <td>98.000000</td>\n",
       "      <td>98.000000</td>\n",
       "      <td>98.000000</td>\n",
       "      <td>98.000000</td>\n",
       "      <td>98.000000</td>\n",
       "      <td>98.000000</td>\n",
       "    </tr>\n",
       "    <tr>\n",
       "      <th>mean</th>\n",
       "      <td>1.492477</td>\n",
       "      <td>-0.183032</td>\n",
       "      <td>-0.388332</td>\n",
       "      <td>1.145678</td>\n",
       "      <td>-0.019831</td>\n",
       "      <td>-0.668970</td>\n",
       "    </tr>\n",
       "    <tr>\n",
       "      <th>std</th>\n",
       "      <td>1.053181</td>\n",
       "      <td>1.998687</td>\n",
       "      <td>1.544932</td>\n",
       "      <td>1.170557</td>\n",
       "      <td>0.203124</td>\n",
       "      <td>0.781923</td>\n",
       "    </tr>\n",
       "    <tr>\n",
       "      <th>min</th>\n",
       "      <td>-0.548616</td>\n",
       "      <td>-7.885692</td>\n",
       "      <td>-2.339222</td>\n",
       "      <td>-1.035836</td>\n",
       "      <td>-0.576186</td>\n",
       "      <td>-2.585362</td>\n",
       "    </tr>\n",
       "    <tr>\n",
       "      <th>25%</th>\n",
       "      <td>0.721823</td>\n",
       "      <td>-1.035442</td>\n",
       "      <td>-1.870859</td>\n",
       "      <td>0.285727</td>\n",
       "      <td>-0.122503</td>\n",
       "      <td>-1.243673</td>\n",
       "    </tr>\n",
       "    <tr>\n",
       "      <th>50%</th>\n",
       "      <td>0.997897</td>\n",
       "      <td>-0.023420</td>\n",
       "      <td>-0.955102</td>\n",
       "      <td>1.432536</td>\n",
       "      <td>-0.014553</td>\n",
       "      <td>-0.742486</td>\n",
       "    </tr>\n",
       "    <tr>\n",
       "      <th>75%</th>\n",
       "      <td>2.598267</td>\n",
       "      <td>0.375455</td>\n",
       "      <td>1.020799</td>\n",
       "      <td>2.108453</td>\n",
       "      <td>0.069367</td>\n",
       "      <td>-0.086572</td>\n",
       "    </tr>\n",
       "    <tr>\n",
       "      <th>max</th>\n",
       "      <td>2.999937</td>\n",
       "      <td>10.306302</td>\n",
       "      <td>2.330058</td>\n",
       "      <td>2.721275</td>\n",
       "      <td>0.480917</td>\n",
       "      <td>0.916239</td>\n",
       "    </tr>\n",
       "  </tbody>\n",
       "</table>\n",
       "</div>"
      ],
      "text/plain": [
       "               A          B          C          D          E          F\n",
       "count  98.000000  98.000000  98.000000  98.000000  98.000000  98.000000\n",
       "mean    1.492477  -0.183032  -0.388332   1.145678  -0.019831  -0.668970\n",
       "std     1.053181   1.998687   1.544932   1.170557   0.203124   0.781923\n",
       "min    -0.548616  -7.885692  -2.339222  -1.035836  -0.576186  -2.585362\n",
       "25%     0.721823  -1.035442  -1.870859   0.285727  -0.122503  -1.243673\n",
       "50%     0.997897  -0.023420  -0.955102   1.432536  -0.014553  -0.742486\n",
       "75%     2.598267   0.375455   1.020799   2.108453   0.069367  -0.086572\n",
       "max     2.999937  10.306302   2.330058   2.721275   0.480917   0.916239"
      ]
     },
     "execution_count": 73,
     "metadata": {},
     "output_type": "execute_result"
    }
   ],
   "source": [
    "df_raw.describe()"
   ]
  },
  {
   "cell_type": "code",
   "execution_count": 104,
   "id": "4e2986a6",
   "metadata": {},
   "outputs": [
    {
     "data": {
      "text/plain": [
       "<seaborn.axisgrid.JointGrid at 0x184795df2e0>"
      ]
     },
     "execution_count": 104,
     "metadata": {},
     "output_type": "execute_result"
    },
    {
     "data": {
      "image/png": "[encoded data removed]",
      "text/plain": [
       "<Figure size 432x432 with 3 Axes>"
      ]
     },
     "metadata": {},
     "output_type": "display_data"
    }
   ],
   "source": [
    "df = df_raw\n",
    "A = df[\"A\"]\n",
    "B = df[\"B\"]\n",
    "C = df[\"C\"]\n",
    "D = df[\"D\"]\n",
    "E = df[\"E\"]\n",
    "F = df[\"F\"]\n",
    "# sns.jointplot(data={'A':A,'B':B},x='A',y='B',kind='kde')\n",
    "# sns.jointplot(data={'A':A,'C':C},x='A',y='C',kind='kde')\n",
    "# sns.jointplot(data={'A':A,'D':D},x='A',y='D',kind='kde')\n",
    "# sns.jointplot(data={'A':A,'E':E},x='A',y='E',kind='kde')\n",
    "# sns.jointplot(data={'A':A,'F':F},x='A',y='F',kind='kde')\n",
    "\n",
    "#sns.jointplot(data={'B':B,'C':C},x='B',y='C',kind='kde')\n",
    "#sns.jointplot(data={'C':C,'D':D},x='C',y='D',kind='kde')\n",
    "#sns.jointplot(data={'D':D,'E':E},x='D',y='E',kind='kde')\n",
    "#sns.jointplot(data={'E':E,'F':F},x='E',y='F',kind='kde')\n",
    "\n",
    "\n",
    "# Joint plot matrix\n",
    "# sns.jointplot(data={'A':A,'B':B,'C':C,'D':D,'E':E,'F':F},x='A',y='B',kind='kde')\n",
    "sns.jointplot(data={'A':A,'B':B,'C':C,'D':D,'E':E,'F':F},x='A',y='C',kind='kde')\n"
   ]
  },
  {
   "cell_type": "code",
   "execution_count": 81,
   "id": "ca7526e9",
   "metadata": {},
   "outputs": [
    {
     "data": {
      "text/html": [
       "<div>\n",
       "<style scoped>\n",
       "    .dataframe tbody tr th:only-of-type {\n",
       "        vertical-align: middle;\n",
       "    }\n",
       "\n",
       "    .dataframe tbody tr th {\n",
       "        vertical-align: top;\n",
       "    }\n",
       "\n",
       "    .dataframe thead th {\n",
       "        text-align: right;\n",
       "    }\n",
       "</style>\n",
       "<table border=\"1\" class=\"dataframe\">\n",
       "  <thead>\n",
       "    <tr style=\"text-align: right;\">\n",
       "      <th></th>\n",
       "      <th>A</th>\n",
       "      <th>B</th>\n",
       "      <th>C</th>\n",
       "      <th>D</th>\n",
       "      <th>E</th>\n",
       "      <th>F</th>\n",
       "    </tr>\n",
       "  </thead>\n",
       "  <tbody>\n",
       "    <tr>\n",
       "      <th>A</th>\n",
       "      <td>1.109191</td>\n",
       "      <td>0.026320</td>\n",
       "      <td>0.019218</td>\n",
       "      <td>-0.049928</td>\n",
       "      <td>-0.021157</td>\n",
       "      <td>0.240156</td>\n",
       "    </tr>\n",
       "    <tr>\n",
       "      <th>B</th>\n",
       "      <td>0.026320</td>\n",
       "      <td>3.994748</td>\n",
       "      <td>-0.111202</td>\n",
       "      <td>0.187797</td>\n",
       "      <td>0.000958</td>\n",
       "      <td>0.002934</td>\n",
       "    </tr>\n",
       "    <tr>\n",
       "      <th>C</th>\n",
       "      <td>0.019218</td>\n",
       "      <td>-0.111202</td>\n",
       "      <td>2.386815</td>\n",
       "      <td>-0.003230</td>\n",
       "      <td>-0.009535</td>\n",
       "      <td>-0.019571</td>\n",
       "    </tr>\n",
       "    <tr>\n",
       "      <th>D</th>\n",
       "      <td>-0.049928</td>\n",
       "      <td>0.187797</td>\n",
       "      <td>-0.003230</td>\n",
       "      <td>1.370205</td>\n",
       "      <td>-0.024545</td>\n",
       "      <td>0.226815</td>\n",
       "    </tr>\n",
       "    <tr>\n",
       "      <th>E</th>\n",
       "      <td>-0.021157</td>\n",
       "      <td>0.000958</td>\n",
       "      <td>-0.009535</td>\n",
       "      <td>-0.024545</td>\n",
       "      <td>0.041259</td>\n",
       "      <td>-0.010216</td>\n",
       "    </tr>\n",
       "    <tr>\n",
       "      <th>F</th>\n",
       "      <td>0.240156</td>\n",
       "      <td>0.002934</td>\n",
       "      <td>-0.019571</td>\n",
       "      <td>0.226815</td>\n",
       "      <td>-0.010216</td>\n",
       "      <td>0.611404</td>\n",
       "    </tr>\n",
       "  </tbody>\n",
       "</table>\n",
       "</div>"
      ],
      "text/plain": [
       "          A         B         C         D         E         F\n",
       "A  1.109191  0.026320  0.019218 -0.049928 -0.021157  0.240156\n",
       "B  0.026320  3.994748 -0.111202  0.187797  0.000958  0.002934\n",
       "C  0.019218 -0.111202  2.386815 -0.003230 -0.009535 -0.019571\n",
       "D -0.049928  0.187797 -0.003230  1.370205 -0.024545  0.226815\n",
       "E -0.021157  0.000958 -0.009535 -0.024545  0.041259 -0.010216\n",
       "F  0.240156  0.002934 -0.019571  0.226815 -0.010216  0.611404"
      ]
     },
     "execution_count": 81,
     "metadata": {},
     "output_type": "execute_result"
    }
   ],
   "source": [
    "a_raw_r = np.round(a_raw,2)\n",
    "\n",
    "df_raw.cov()"
   ]
  },
  {
   "cell_type": "code",
   "execution_count": 80,
   "id": "6b87d4e3",
   "metadata": {},
   "outputs": [
    {
     "data": {
      "text/plain": [
       "0.9748022225075905"
      ]
     },
     "execution_count": 80,
     "metadata": {},
     "output_type": "execute_result"
    }
   ],
   "source": [
    "p_values = []\n",
    "for i in range(len(nodes)):\n",
    "    ttest(a_raw, a_iF)"
   ]
  },
  {
   "cell_type": "markdown",
   "id": "85c92a8b",
   "metadata": {},
   "source": [
    "## Modellering af data - finde den rigtige distribution\n",
    "Fra denne hjemmeside\n",
    "https://github.com/mungoliabhishek/Distribution-Fitting-Used_Car_Dataset/blob/master/Workbook.ipynb"
   ]
  },
  {
   "cell_type": "code",
   "execution_count": 3,
   "id": "d7bed85d",
   "metadata": {},
   "outputs": [
    {
     "ename": "NameError",
     "evalue": "name 'df_raw' is not defined",
     "output_type": "error",
     "traceback": [
      "\u001b[1;31m---------------------------------------------------------------------------\u001b[0m",
      "\u001b[1;31mNameError\u001b[0m                                 Traceback (most recent call last)",
      "\u001b[1;32m~\\AppData\\Local\\Temp\\ipykernel_2564\\2993384810.py\u001b[0m in \u001b[0;36m<cell line: 18>\u001b[1;34m()\u001b[0m\n\u001b[0;32m     16\u001b[0m \u001b[0mget_ipython\u001b[0m\u001b[1;33m(\u001b[0m\u001b[1;33m)\u001b[0m\u001b[1;33m.\u001b[0m\u001b[0mrun_line_magic\u001b[0m\u001b[1;33m(\u001b[0m\u001b[1;34m'matplotlib'\u001b[0m\u001b[1;33m,\u001b[0m \u001b[1;34m'inline'\u001b[0m\u001b[1;33m)\u001b[0m\u001b[1;33m\u001b[0m\u001b[1;33m\u001b[0m\u001b[0m\n\u001b[0;32m     17\u001b[0m \u001b[1;33m\u001b[0m\u001b[0m\n\u001b[1;32m---> 18\u001b[1;33m \u001b[0mdf\u001b[0m \u001b[1;33m=\u001b[0m \u001b[0mdf_raw\u001b[0m\u001b[1;33m\u001b[0m\u001b[1;33m\u001b[0m\u001b[0m\n\u001b[0m",
      "\u001b[1;31mNameError\u001b[0m: name 'df_raw' is not defined"
     ]
    }
   ],
   "source": [
    "from sklearn.preprocessing import StandardScaler\n",
    "import re\n",
    "import pandas as pd\n",
    "import numpy as np\n",
    "# from mlutils import dataset, connector\n",
    "import scipy.stats\n",
    "from scipy.stats import *\n",
    "from sklearn.preprocessing import StandardScaler\n",
    "import math\n",
    "import matplotlib.pyplot as plt\n",
    "import warnings\n",
    "import statsmodels.api as sm \n",
    "import seaborn as sns\n",
    "import pylab as py \n",
    "warnings.filterwarnings('ignore')\n",
    "%matplotlib inline\n"
   ]
  },
  {
   "cell_type": "code",
   "execution_count": 7,
   "id": "274aa8bc",
   "metadata": {},
   "outputs": [],
   "source": [
    "df = df_raw"
   ]
  },
  {
   "cell_type": "code",
   "execution_count": 9,
   "id": "1b7a30ab",
   "metadata": {},
   "outputs": [],
   "source": [
    "def standarise(column,pct,pct_lower):\n",
    "    sc = StandardScaler() \n",
    "    y = df[column][df[column].notnull()].to_list()\n",
    "    y.sort()\n",
    "    len_y = len(y)\n",
    "    y = y[int(pct_lower * len_y):int(len_y * pct)]\n",
    "    len_y = len(y)\n",
    "    yy=([[x] for x in y])\n",
    "    sc.fit(yy)\n",
    "    y_std =sc.transform(yy)\n",
    "    y_std = y_std.flatten()\n",
    "    return y_std,len_y,y"
   ]
  },
  {
   "cell_type": "code",
   "execution_count": 6,
   "id": "1f0b4314",
   "metadata": {},
   "outputs": [],
   "source": [
    "def fit_distribution(column,pct,pct_lower):\n",
    "    # Set up list of candidate distributions to use\n",
    "    # See https://docs.scipy.org/doc/scipy/reference/stats.html for more\n",
    "    y_std,size,y_org = standarise(column,pct,pct_lower)\n",
    "    dist_names = ['weibull_min','norm','weibull_max','beta',\n",
    "                 'invgauss','uniform','gamma','expon', 'lognorm','pearson3','triang']\n",
    "\n",
    "    chi_square_statistics = []\n",
    "    # 11 bins\n",
    "    percentile_bins = np.linspace(0,100,11)\n",
    "    percentile_cutoffs = np.percentile(y_std, percentile_bins)\n",
    "    observed_frequency, bins = (np.histogram(y_std, bins=percentile_cutoffs))\n",
    "    cum_observed_frequency = np.cumsum(observed_frequency)\n",
    "\n",
    "    # Loop through candidate distributions\n",
    "\n",
    "    for distribution in dist_names:\n",
    "        # Set up distribution and get fitted distribution parameters\n",
    "        dist = getattr(scipy.stats, distribution)\n",
    "        param = dist.fit(y_std)\n",
    "        print(\"{}\\n{}\\n\".format(dist, param))\n",
    "      \n",
    "\n",
    "        # Get expected counts in percentile bins\n",
    "        # cdf of fitted sistrinution across bins\n",
    "        cdf_fitted = dist.cdf(percentile_cutoffs, *param)\n",
    "        expected_frequency = []\n",
    "        for bin in range(len(percentile_bins)-1):\n",
    "            expected_cdf_area = cdf_fitted[bin+1] - cdf_fitted[bin]\n",
    "            expected_frequency.append(expected_cdf_area)\n",
    "\n",
    "        # Chi-square Statistics\n",
    "        expected_frequency = np.array(expected_frequency) * size\n",
    "        cum_expected_frequency = np.cumsum(expected_frequency)\n",
    "        ss = round(sum (((cum_expected_frequency - cum_observed_frequency) ** 2) / cum_observed_frequency),0)\n",
    "        chi_square_statistics.append(ss)\n",
    "\n",
    "\n",
    "    #Sort by minimum ch-square statistics\n",
    "    results = pd.DataFrame()\n",
    "    results['Distribution'] = dist_names\n",
    "    results['chi_square'] = chi_square_statistics\n",
    "    results.sort_values(['chi_square'], inplace=True)\n",
    "\n",
    "\n",
    "    print ('\\nDistributions listed by Betterment of fit:')\n",
    "    print ('............................................')\n",
    "    print (results)"
   ]
  },
  {
   "cell_type": "code",
   "execution_count": 10,
   "id": "23508aa4",
   "metadata": {},
   "outputs": [
    {
     "name": "stdout",
     "output_type": "stream",
     "text": [
      "<scipy.stats._continuous_distns.weibull_min_gen object at 0x0000028D56270640>\n",
      "(0.7835998781753788, -2.8037639857428363, 1.2688459577488853)\n",
      "\n",
      "<scipy.stats._continuous_distns.norm_gen object at 0x0000028D562147C0>\n",
      "(4.578239276804769e-18, 1.0)\n",
      "\n",
      "<scipy.stats._continuous_distns.weibull_max_gen object at 0x0000028D56228430>\n",
      "(3.34275393942044, 3.0817511571641143, 3.4258776692884134)\n",
      "\n",
      "<scipy.stats._continuous_distns.beta_gen object at 0x0000028D562143A0>\n",
      "(6660147.59188441, 323.8363892441532, -369947.1998324774, 369965.19042919925)\n",
      "\n",
      "<scipy.stats._continuous_distns.invgauss_gen object at 0x0000028D5628DB50>\n",
      "(0.01155162155329353, -9.768837071525049, 845.7211619523314)\n",
      "\n",
      "<scipy.stats._continuous_distns.uniform_gen object at 0x0000028D562E5100>\n",
      "(-2.803763985742836, 5.218229054368242)\n",
      "\n",
      "<scipy.stats._continuous_distns.gamma_gen object at 0x0000028D56270940>\n",
      "(806.7094684529852, -28.43917784681358, 0.035250096149845034)\n",
      "\n",
      "<scipy.stats._continuous_distns.expon_gen object at 0x0000028D5622E400>\n",
      "(-2.803763985742836, 2.803763985742836)\n",
      "\n",
      "<scipy.stats._continuous_distns.lognorm_gen object at 0x0000028D562A0550>\n",
      "(0.005649094234636606, -176.51938076287897, 176.51609347708734)\n",
      "\n",
      "<scipy.stats._continuous_distns.pearson3_gen object at 0x0000028D562BFA90>\n",
      "(-0.0801358519651702, 4.430379058275035e-18, 0.9998053232542057)\n",
      "\n",
      "<scipy.stats._continuous_distns.triang_gen object at 0x0000028D562CC880>\n",
      "(0.5429917921777829, -2.9108956251679485, 5.49358159865754)\n",
      "\n",
      "\n",
      "Distributions listed by Betterment of fit:\n",
      "............................................\n",
      "   Distribution  chi_square\n",
      "3          beta         7.0\n",
      "1          norm         8.0\n",
      "6         gamma         8.0\n",
      "8       lognorm         8.0\n",
      "9      pearson3         8.0\n",
      "2   weibull_max         9.0\n",
      "4      invgauss        11.0\n",
      "10       triang        18.0\n",
      "5       uniform        73.0\n",
      "7         expon       193.0\n",
      "0   weibull_min       645.0\n"
     ]
    }
   ],
   "source": [
    "fit_distribution('E',0.99,0.01)"
   ]
  },
  {
   "cell_type": "code",
   "execution_count": null,
   "id": "5de6c038",
   "metadata": {},
   "outputs": [],
   "source": []
  },
  {
   "cell_type": "code",
   "execution_count": null,
   "id": "a5b197b7",
   "metadata": {},
   "outputs": [],
   "source": []
  }
 ],
 "metadata": {
  "kernelspec": {
   "display_name": "Python 3 (ipykernel)",
   "language": "python",
   "name": "python3"
  },
  "language_info": {
   "codemirror_mode": {
    "name": "ipython",
    "version": 3
   },
   "file_extension": ".py",
   "mimetype": "text/x-python",
   "name": "python",
   "nbconvert_exporter": "python",
   "pygments_lexer": "ipython3",
   "version": "3.9.1"
  }
 },
 "nbformat": 4,
 "nbformat_minor": 5
}
