{
 "cells": [
  {
   "cell_type": "markdown",
   "id": "b845aff8",
   "metadata": {},
   "source": [
    "# Script containing drawn samples, test statistics, strategy, etc. for project 3\n",
    "\n",
    "### Facts:\n",
    "##### $\\bullet$ There are 7 nodes \n",
    "##### $\\bullet$ There is one hidden node"
   ]
  },
  {
   "cell_type": "markdown",
   "id": "d69a51be",
   "metadata": {},
   "source": [
    "## General setup:\n",
    "### Write down exactly what was done when sampling in a markdown cell above the code\n",
    "### Save the samples in variables\n",
    "### Do statistics"
   ]
  },
  {
   "cell_type": "code",
   "execution_count": 1,
   "id": "9928c100",
   "metadata": {},
   "outputs": [],
   "source": [
    "import numpy as np"
   ]
  },
  {
   "cell_type": "code",
   "execution_count": 1,
   "id": "1d1ce4de",
   "metadata": {},
   "outputs": [],
   "source": [
    "def mean(A):\n",
    "    return np.mean(A, axis=0)\n",
    "def var(A):\n",
    "    return np.var(A, axis=0)\n",
    "def cor(A):\n",
    "    return np.cor(A, axis=0)\n",
    "\n"
   ]
  },
  {
   "cell_type": "code",
   "execution_count": null,
   "id": "9d8730c3",
   "metadata": {},
   "outputs": [],
   "source": []
  }
 ],
 "metadata": {
  "kernelspec": {
   "display_name": "Python 3 (ipykernel)",
   "language": "python",
   "name": "python3"
  },
  "language_info": {
   "codemirror_mode": {
    "name": "ipython",
    "version": 3
   },
   "file_extension": ".py",
   "mimetype": "text/x-python",
   "name": "python",
   "nbconvert_exporter": "python",
   "pygments_lexer": "ipython3",
   "version": "3.8.13"
  }
 },
 "nbformat": 4,
 "nbformat_minor": 5
}
